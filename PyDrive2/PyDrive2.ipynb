{
 "cells": [
  {
   "cell_type": "markdown",
   "id": "ea0fdee6-3c3b-45f5-a2ab-4d60bd5abbdc",
   "metadata": {},
   "source": [
    "# PyDrive2 Implementation"
   ]
  },
  {
   "cell_type": "markdown",
   "id": "c083d853-c850-4501-ad13-2daa6db20b0f",
   "metadata": {},
   "source": [
    "In this short notebook I implement the PyDrive2 library to download files that are storaged in a Drive Folder. This notebook only requieres internet connection and the installing of the listed libraries:"
   ]
  },
  {
   "cell_type": "code",
   "execution_count": 1,
   "id": "43347565-0c2f-4cc4-ab77-cb3d6f122c18",
   "metadata": {},
   "outputs": [],
   "source": [
    "# ! pip install pydrive2 "
   ]
  },
  {
   "cell_type": "markdown",
   "id": "f1e2465e-88c2-4d07-a73d-395272912a23",
   "metadata": {},
   "source": [
    "To start using the library, it is necessary to follow the next steps: \n"
   ]
  },
  {
   "cell_type": "markdown",
   "id": "4e3f3b47-fdd1-4514-994f-6b4f6f852e27",
   "metadata": {},
   "source": [
    "Set Up Google API Credentials:\n",
    "\n",
    "1. Go to the Google Cloud Console.\n",
    "2. Create a new project and enable the Google Drive API.\n",
    "3. Create OAuth 2.0 credentials and download the credentials.json file.\n",
    "4. Save the file as credentials.json in your working directory"
   ]
  },
  {
   "cell_type": "markdown",
   "id": "85de9f84-ceb4-4c9a-a125-cb233fd6ab1a",
   "metadata": {},
   "source": [
    "After getting your JSON credentials, rename the file as _client_secrets.json_ and saved in the save folder as the code. To start using the drive library we need to pass an authentication section: "
   ]
  },
  {
   "cell_type": "code",
   "execution_count": 2,
   "id": "8582cf35-e51f-4c0c-b2d6-890223f27775",
   "metadata": {},
   "outputs": [],
   "source": [
    "# Libraries\n",
    "from pydrive2.auth import GoogleAuth\n",
    "from pydrive2.drive import GoogleDrive\n",
    "import os"
   ]
  },
  {
   "cell_type": "code",
   "execution_count": 3,
   "id": "2e1b7444-0083-4dde-9f6a-baa90090f81c",
   "metadata": {},
   "outputs": [],
   "source": [
    "# Step 1: Authentication\n",
    "def authentication(cred: str = \"mycreds.txt\"):\n",
    "    '''\n",
    "    Do the authentication using credencials and returns the drive objetc\n",
    "\n",
    "    Args: \n",
    "        cred (str) - Path to save the credentials\n",
    "\n",
    "    Return: Drive object \n",
    "    '''\n",
    "    try:\n",
    "        gauth = GoogleAuth()\n",
    "        gauth.LoadCredentialsFile(cred)  # Load previously saved credentials\n",
    "        if not gauth.credentials:\n",
    "            gauth.LoadClientConfigFile()  # Use the downloaded credentials.json\n",
    "            gauth.LocalWebserverAuth()  # Authenticate using a local web server\n",
    "            gauth.SaveCredentialsFile(cred)  # Save the credentials for future use\n",
    "        return GoogleDrive(gauth)\n",
    "    except Exception as e:\n",
    "        print(e)"
   ]
  },
  {
   "cell_type": "code",
   "execution_count": 4,
   "id": "da34a38c-2d24-4626-b946-d5f4e271d01d",
   "metadata": {},
   "outputs": [],
   "source": [
    "drive = authentication()"
   ]
  },
  {
   "cell_type": "markdown",
   "id": "e7cf3e1e-b6f7-4666-9c87-e4736c15cfad",
   "metadata": {},
   "source": [
    "Any Drive Path is like: \n",
    "\n",
    "$https://drive.google.com/drive/folders/<folder-id>?usp=sharing$\n",
    "\n",
    "We're only interested in the folder's id. So we implement the next code to extract that information: "
   ]
  },
  {
   "cell_type": "code",
   "execution_count": 5,
   "id": "0315f701-920b-4a06-98b1-10722f2a7eee",
   "metadata": {},
   "outputs": [],
   "source": [
    "def get_file_id_from_link(link: str):\n",
    "    '''\n",
    "    Returns the object id of a folder or document \n",
    "    '''\n",
    "    if \"id=\" in link:\n",
    "        return link.split(\"id=\")[1]\n",
    "    elif \"d/\" in link:\n",
    "        return link.split(\"d/\")[1].split(\"/\")[0]\n",
    "    elif \"folders/\" in link:\n",
    "        return link.split(\"folders/\")[1].split(\"?\")[0]\n",
    "    else:\n",
    "        raise ValueError(\"Invalid Google Drive link\")"
   ]
  },
  {
   "cell_type": "markdown",
   "id": "93255b5e-1e72-41c3-99f2-fa6a27b344a0",
   "metadata": {},
   "source": [
    "With the folders id, we implement the next function to get all the files in the folder: "
   ]
  },
  {
   "cell_type": "code",
   "execution_count": 6,
   "id": "8739e0b5-a51d-4777-a9c3-e95776a109bb",
   "metadata": {},
   "outputs": [],
   "source": [
    "def download_folder_files(folder_id, download_path: str = './DriveFiles'):\n",
    "    '''\n",
    "    Download all the files in a Drive folder:\n",
    "\n",
    "    Args:\n",
    "        folder_id (str): The id in the link path \n",
    "        download_pat (str): This path will create a folder to save the files\n",
    "\n",
    "    Return: True if all the documents were downloaded\n",
    "    '''\n",
    "    os.makedirs(download_path, exist_ok = True)\n",
    "    \n",
    "    # Query for files in the folder\n",
    "    query = f\"'{folder_id}' in parents and trashed=false\"\n",
    "    file_list = drive.ListFile({'q': query}).GetList()\n",
    "    \n",
    "    # Download each file\n",
    "    try:    \n",
    "        for file in file_list:\n",
    "            print(f\"Downloading {file['title']}...\")\n",
    "            file.GetContentFile( f\"{download_path}/{file['title']}\"   )\n",
    "        print('True')\n",
    "    except Exception as e:\n",
    "        print('False: ', e)\n"
   ]
  },
  {
   "cell_type": "markdown",
   "id": "a6672bc4-7ebc-4556-9a88-71a3ed9ed81f",
   "metadata": {},
   "source": [
    "Declare the link to your folder:"
   ]
  },
  {
   "cell_type": "code",
   "execution_count": 7,
   "id": "8a1c737d-4b51-417f-a796-1cf7e186b646",
   "metadata": {},
   "outputs": [],
   "source": [
    "link = 'https://drive.google.com/drive/folders/1vqB3hahgJDEYzJg6jxQ4eXij2GNVMH34?usp=sharing'"
   ]
  },
  {
   "cell_type": "code",
   "execution_count": 8,
   "id": "a0c9bbef-6742-4eb3-b8bc-7045c5019bbc",
   "metadata": {},
   "outputs": [
    {
     "data": {
      "text/plain": [
       "'1vqB3hahgJDEYzJg6jxQ4eXij2GNVMH34'"
      ]
     },
     "execution_count": 8,
     "metadata": {},
     "output_type": "execute_result"
    }
   ],
   "source": [
    "id_file = get_file_id_from_link(link)\n",
    "id_file"
   ]
  },
  {
   "cell_type": "code",
   "execution_count": 9,
   "id": "74f1ac57-6d0a-4da9-98f4-8d9f32dca706",
   "metadata": {},
   "outputs": [
    {
     "name": "stdout",
     "output_type": "stream",
     "text": [
      "Downloading images.webp...\n",
      "Downloading 1000093.cif...\n",
      "True\n"
     ]
    }
   ],
   "source": [
    "download_folder_files(id_file)"
   ]
  },
  {
   "cell_type": "markdown",
   "id": "2b114aeb-399a-4c1b-9de9-e6b135e5f16e",
   "metadata": {},
   "source": [
    "## Download just one document:"
   ]
  },
  {
   "cell_type": "code",
   "execution_count": 10,
   "id": "6f371d0d-fe36-43a5-b2c0-22898caa04f1",
   "metadata": {},
   "outputs": [],
   "source": [
    "def download_just_one(file_id: str):\n",
    "    file = drive.CreateFile({'id': file_id})\n",
    "    file_name = file['title']  # Get the file name\n",
    "    data = file.GetContentFile(file_name)  # Download the file\n",
    "    print(f\"File '{file_name}' downloaded successfully!\")"
   ]
  }
 ],
 "metadata": {
  "kernelspec": {
   "display_name": "Python 3 (ipykernel)",
   "language": "python",
   "name": "python3"
  },
  "language_info": {
   "codemirror_mode": {
    "name": "ipython",
    "version": 3
   },
   "file_extension": ".py",
   "mimetype": "text/x-python",
   "name": "python",
   "nbconvert_exporter": "python",
   "pygments_lexer": "ipython3",
   "version": "3.8.20"
  }
 },
 "nbformat": 4,
 "nbformat_minor": 5
}
